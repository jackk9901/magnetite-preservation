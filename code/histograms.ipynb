{
 "cells": [
  {
   "cell_type": "markdown",
   "source": [
    "Creating histograms and general averages of raw data"
   ],
   "metadata": {
    "collapsed": false
   }
  },
  {
   "cell_type": "code",
   "execution_count": 1,
   "metadata": {
    "collapsed": true
   },
   "outputs": [],
   "source": [
    "# import statements\n",
    "import pandas as pd\n",
    "import matplotlib.pyplot as plt\n",
    "import matplotlib.lines as mlines # for legend creation\n",
    "import numpy as np\n",
    "import cartopy.crs as ccrs\n",
    "%matplotlib inline\n",
    "plt.rcParams[\"font.family\"] = \"Avenir\""
   ]
  },
  {
   "cell_type": "code",
   "execution_count": 2,
   "outputs": [],
   "source": [
    "# read in data (loads all sheets and creates a dictionary of dataframes)\n",
    "# using raw data and not interpolated\n",
    "comps = pd.read_excel(\"data/comp_raw.xlsx\", sheet_name=None)\n",
    "inter = pd.read_excel(\"data/comp_inter.xlsx\", sheet_name=None)"
   ],
   "metadata": {
    "collapsed": false
   }
  },
  {
   "cell_type": "code",
   "execution_count": 3,
   "outputs": [
    {
     "name": "stdout",
     "output_type": "stream",
     "text": [
      "530\n"
     ]
    },
    {
     "data": {
      "text/plain": "<Figure size 432x288 with 1 Axes>",
      "image/png": "[encoded data removed]"
     },
     "metadata": {
      "needs_background": "light"
     },
     "output_type": "display_data"
    }
   ],
   "source": [
    "test = comps['HLY05-01 JPC-TC5'][\"Magnetite [ppm]\"]\n",
    "plt.hist(test)\n",
    "print(comps['HLY05-01 JPC-TC5'][\"Magnetite [ppm]\"].size)"
   ],
   "metadata": {
    "collapsed": false
   }
  },
  {
   "cell_type": "code",
   "execution_count": 4,
   "outputs": [
    {
     "name": "stdout",
     "output_type": "stream",
     "text": [
      "[1600.1568326967415, 155.0576273081788, 2781.8474576271187, 88.98350429132749, 443.0766489865692, 439.63029353372065, 134.9372471883846, 91.26273922437106, 288.8175695353408, 7342.068769505955, 148.7172669944252, 148.90424600074488, 82.66011008316262, 12.200000000000001, 120.89118567349152, 396.04229915008295, 198.19185015932578, 1171.3266420167365]\n",
      "869.1540161097599\n",
      "176.62473873375228\n"
     ]
    },
    {
     "data": {
      "text/plain": "<Figure size 432x288 with 1 Axes>",
      "image/png": "[encoded data removed]"
     },
     "metadata": {
      "needs_background": "light"
     },
     "output_type": "display_data"
    }
   ],
   "source": [
    "sed_avgs = []\n",
    "for key in comps:\n",
    "    if \"Sedimentation Rate [m/Myr]\" in comps[key].columns:\n",
    "        sed_avgs.append(comps[key][\"Sedimentation Rate [m/Myr]\"].mean())\n",
    "plt.hist(sed_avgs, 200)\n",
    "plt.xlim(0, 500)\n",
    "print(sed_avgs)\n",
    "print(pd.Series(sed_avgs).mean())\n",
    "print(pd.Series(sed_avgs).median())"
   ],
   "metadata": {
    "collapsed": false
   }
  },
  {
   "cell_type": "code",
   "execution_count": 8,
   "outputs": [
    {
     "name": "stdout",
     "output_type": "stream",
     "text": [
      "[1.3821428571428573, 0.2687311827956989, 3.6608633709677436, 0.5374285714285716, 1.2520000000000002, 1.0809009009009012, 0.9901515151515151, 0.3410588235294117, 0.2788181818181819, 0.8987859125385524, 0.49476923076923085, 0.42780000000000007, 0.3273684210526316, 0.6268951377568737, 0.14888842586383652, 1.0020224719101123, 2.6000000000000005, 1.3804878048780491, 1.6314560421408035]\n",
      "1.0173983605602617\n",
      "0.8987859125385524\n",
      "2109\n",
      "1511\n",
      "% of data below 1 wt. %: 71.64532954006638\n"
     ]
    }
   ],
   "source": [
    "toc_avgs = []\n",
    "toc_values = []\n",
    "for key in comps:\n",
    "    if \"TOC [wt. %]\" in comps[key].columns:\n",
    "        toc_avgs.append(comps[key][\"TOC [wt. %]\"].mean())\n",
    "        toc_values.extend(comps[key][\"TOC [wt. %]\"])\n",
    "print(toc_avgs)\n",
    "print(pd.Series(toc_avgs).mean())\n",
    "print(pd.Series(toc_avgs).median())\n",
    "\n",
    "# find amount of TOC data between 0-1 wt. %\n",
    "boundary = 1\n",
    "toc_series = pd.Series(toc_values)\n",
    "print(toc_series.count())\n",
    "low_toc = toc_series[toc_series < boundary]\n",
    "print(low_toc.count())\n",
    "print(\"% of data below \" + str(boundary) + \" wt. %: \" + str(100*(low_toc.count()/toc_series.count())))\n"
   ],
   "metadata": {
    "collapsed": false
   }
  },
  {
   "cell_type": "code",
   "execution_count": 7,
   "outputs": [
    {
     "data": {
      "text/plain": "<Figure size 347.76x231.84 with 1 Axes>",
      "image/png": "[encoded data removed]"
     },
     "metadata": {
      "needs_background": "light"
     },
     "output_type": "display_data"
    }
   ],
   "source": [
    "# combine all magnetite data points from different dataframes\n",
    "mag_values = []\n",
    "site_avgs = []\n",
    "mag_and_depth = pd.DataFrame()\n",
    "log_bins = np.logspace(0, 4)\n",
    "# make a DF of all magnetite and depth values\n",
    "for key in comps:\n",
    "    mag_values.extend(comps[key][\"Magnetite [ppm]\"])\n",
    "    site_avgs.append(comps[key][\"Magnetite [ppm]\"].mean())\n",
    "    mag_and_depth = mag_and_depth.append(comps[key].iloc[:,0:2], True)\n",
    "\n",
    "# take just data below 50 mbsf\n",
    "below = mag_and_depth[(mag_and_depth[\"Depth [mbsf]\"] > 50)|(mag_and_depth[\"Depth [mcd]\"] > 50)|(mag_and_depth[\"Depth [ambsf]\"] > 50)].dropna(subset=[\"Magnetite [ppm]\"])\n",
    "below_mag = below[\"Magnetite [ppm]\"]\n",
    "\n",
    "\n",
    "# do stats\n",
    "avg = round(pd.Series(mag_values).mean())\n",
    "avg_string = \"Mean = \" + str(avg) + \" ppm\"\n",
    "median = round(pd.Series(mag_values).median())\n",
    "median_string = \"Median = \" + str(median) + \" ppm\"\n",
    "\n",
    "# stats below 50m\n",
    "deep_avg = round(pd.Series(below_mag).mean())\n",
    "deep_avg_string = \"Mean below 50 mbsf = \" + str(deep_avg) + \" ppm\"\n",
    "deep_median = round(pd.Series(below_mag).median())\n",
    "deep_median_string = \"Median below 50 mbsf = \" + str(deep_median) + \" ppm\"\n",
    "\n",
    "plt.figure(figsize=(4.83,3.22))\n",
    "plt.hist(mag_values, log_bins, color=\"royalblue\", linewidth=0.2, edgecolor=\"k\", label=\"All data\")\n",
    "plt.hist(below_mag,log_bins, color=\"mediumseagreen\", linewidth=0.2, edgecolor=\"k\", label=\"Below 50 mbsf\")\n",
    "#plt.text(5000,500,avg_string)\n",
    "#plt.text(5000,350,median_string)\n",
    "plt.xlim(1,10000)\n",
    "plt.text(1.2, 250, avg_string)\n",
    "plt.text(1.2, 225, median_string)\n",
    "plt.text(1.2, 200, deep_avg_string)\n",
    "plt.text(1.2, 175, deep_median_string)\n",
    "plt.xlabel(\"Magnetite [ppm]\")\n",
    "plt.xscale(\"log\")\n",
    "plt.ylabel(\"Count\")\n",
    "plt.legend(loc=\"upper left\")\n",
    "#plt.title(\"Histogram of Magnetite Data\")\n",
    "plt.tight_layout()\n",
    "#plt.savefig(\"outputs/compilation/hist/overlapping-resize1.pdf\")"
   ],
   "metadata": {
    "collapsed": false
   }
  },
  {
   "cell_type": "code",
   "execution_count": 8,
   "outputs": [
    {
     "name": "stdout",
     "output_type": "stream",
     "text": [
      "total: 2923\n",
      "within bounds: 1389\n",
      "% within bounds: 47.51967157030448\n",
      "% within bounds below: 49.72462627852085\n"
     ]
    }
   ],
   "source": [
    "# more stats\n",
    "mag_series = pd.Series(mag_values)\n",
    "print(\"total:\",mag_series.count())\n",
    "selected = mag_series[mag_series.between(100,500)]\n",
    "below_selected = below_mag[below_mag.between(100,500)]\n",
    "print(\"within bounds:\",selected.count())\n",
    "print(\"% within bounds:\",(selected.count()/mag_series.count())*100)\n",
    "print(\"% within bounds below:\",(below_selected.count()/below_mag.count())*100)"
   ],
   "metadata": {
    "collapsed": false
   }
  },
  {
   "cell_type": "code",
   "execution_count": 11,
   "outputs": [
    {
     "name": "stdout",
     "output_type": "stream",
     "text": [
      "8\n"
     ]
    }
   ],
   "source": [
    "# how many outliers are excluded from fig 2 histogram?\n",
    "print(mag_series[mag_series >= 10000].size)"
   ],
   "metadata": {
    "collapsed": false
   }
  },
  {
   "cell_type": "code",
   "execution_count": null,
   "outputs": [],
   "source": [
    "# histogram depths to see depth distribution of data\n",
    "depths = []\n",
    "depths.extend(mag_and_depth[\"Depth [mbsf]\"].dropna())\n",
    "depths.extend(mag_and_depth[\"Depth [mcd]\"].dropna())\n",
    "depths.extend(mag_and_depth[\"Depth [ambsf]\"].dropna())\n",
    "\n",
    "plt.hist(depths, 50)\n",
    "\n",
    "plt.xticks(np.arange(0,1000,50))\n",
    "plt.xlabel(\"Depth [mbsf]\")\n",
    "plt.ylabel(\"Count\")\n",
    "plt.xlim(0,900)\n",
    "\n",
    "# percent of data below certain depth\n",
    "dseries = pd.Series(depths)\n",
    "boundary = 50\n",
    "below = dseries[dseries > boundary]\n",
    "percent_below = (below.count()/dseries.count())*100\n",
    "percent_string = str(round(percent_below)) + \"% below \" + str(boundary) + \" mbsf\"\n",
    "plt.text(500, 2000, percent_string)\n",
    "\n",
    "plt.tight_layout()\n",
    "plt.savefig(\"outputs/compilation/hist/depth-hist.pdf\")\n"
   ],
   "metadata": {
    "collapsed": false
   }
  },
  {
   "cell_type": "code",
   "execution_count": 109,
   "outputs": [
    {
     "name": "stderr",
     "output_type": "stream",
     "text": [
      "/var/folders/_h/rf1x6kzd5h95m4sbv_q28lyc0000gn/T/ipykernel_65030/1171442163.py:4: UserWarning: Attempted to set non-positive bottom ylim on a log-scaled axis.\n",
      "Invalid limit will be ignored.\n",
      "  plt.ylim(0,1050)\n"
     ]
    },
    {
     "data": {
      "text/plain": "<Figure size 432x288 with 1 Axes>",
      "image/png": "[encoded data removed]"
     },
     "metadata": {
      "needs_background": "light"
     },
     "output_type": "display_data"
    }
   ],
   "source": [
    "plt.hist(below_mag, 75, (0,10000))\n",
    "plt.xlim(0,10000)\n",
    "plt.yscale(\"log\")\n",
    "plt.ylim(0,1050)\n",
    "plt.xlabel(\"Magnetite [ppm]\")\n",
    "plt.ylabel(\"Count\")\n",
    "plt.title(\"Histogram of Magnetite Data (below 50m)\")\n",
    "plt.tight_layout()\n",
    "#plt.savefig(\"outputs/compilation/hist/mag_hist_deep_log.pdf\")"
   ],
   "metadata": {
    "collapsed": false
   }
  },
  {
   "cell_type": "code",
   "execution_count": 36,
   "outputs": [
    {
     "data": {
      "text/plain": "[<matplotlib.lines.Line2D at 0x7fa111ec8850>]"
     },
     "execution_count": 36,
     "metadata": {},
     "output_type": "execute_result"
    },
    {
     "data": {
      "text/plain": "<Figure size 432x288 with 1 Axes>",
      "image/png": "[encoded data removed]"
     },
     "metadata": {
      "needs_background": "light"
     },
     "output_type": "display_data"
    }
   ],
   "source": [
    "ax1 = plt.hist(site_avgs,30)\n",
    "plt.xticks(np.arange(0,6000,step=500))\n",
    "plt.xlim(0,5500)\n",
    "site_avg_string = \"Site-Averaged Mean = \" + str(round(pd.Series(site_avgs).mean())) + \" ppm\"\n",
    "site_median_string = \"Site-Averaged Median = \" + str(round(pd.Series(site_avgs).median())) + \" ppm\"\n",
    "plt.text(2000,4,site_avg_string)\n",
    "plt.text(2000,3.5,site_median_string)\n",
    "plt.xlabel(\"Magnetite [ppm]\")\n",
    "plt.ylabel(\"Count\")\n",
    "plt.title(\"Histogram of Magnetite Data by Site\")\n",
    "plt.tight_layout()\n",
    "#plt.savefig(\"outputs/compilation/mag_hist_bysite.pdf\")"
   ],
   "metadata": {
    "collapsed": false
   }
  },
  {
   "cell_type": "code",
   "execution_count": 39,
   "outputs": [
    {
     "data": {
      "text/plain": "(0.0, 6000.0)"
     },
     "execution_count": 39,
     "metadata": {},
     "output_type": "execute_result"
    },
    {
     "data": {
      "text/plain": "<Figure size 432x288 with 1 Axes>",
      "image/png": "[encoded data removed]"
     },
     "metadata": {
      "needs_background": "light"
     },
     "output_type": "display_data"
    }
   ],
   "source": [
    "plt.plot(site_avgs, \"bo\")\n",
    "plt.ylim(0,6000)"
   ],
   "metadata": {
    "collapsed": false
   }
  },
  {
   "cell_type": "code",
   "execution_count": 8,
   "outputs": [
    {
     "name": "stdout",
     "output_type": "stream",
     "text": [
      "      Magnetite [ppm]  Sulfate [mM]\n",
      "0                 NaN     28.600000\n",
      "1                 NaN     28.600000\n",
      "2                 NaN     28.600000\n",
      "3          153.260870     28.586441\n",
      "4                 NaN     28.285424\n",
      "...               ...           ...\n",
      "1120        60.869565      2.300000\n",
      "1121              NaN      2.300000\n",
      "1122       234.782609      2.300000\n",
      "1123       220.652174      2.300000\n",
      "1124        73.913043      2.300000\n",
      "\n",
      "[1125 rows x 2 columns]\n"
     ]
    }
   ],
   "source": [
    "print(inter[\"IODP 178-1096\"][[\"Magnetite [ppm]\",\"Sulfate [mM]\"]])"
   ],
   "metadata": {
    "collapsed": false
   }
  },
  {
   "cell_type": "code",
   "execution_count": 6,
   "outputs": [
    {
     "name": "stdout",
     "output_type": "stream",
     "text": [
      "High sulfate magnetite: \n",
      " count      713.000000\n",
      "mean       510.571985\n",
      "std       3122.314864\n",
      "min          1.305989\n",
      "25%        178.260870\n",
      "50%        258.152174\n",
      "75%        451.086957\n",
      "max      83043.478261\n",
      "Name: Magnetite [ppm], dtype: float64\n",
      "Low sulfate magnetite: \n",
      " count      1155.000000\n",
      "mean        915.828653\n",
      "std        7795.523869\n",
      "min           0.850799\n",
      "25%         117.934783\n",
      "50%         255.434783\n",
      "75%         407.500000\n",
      "max      258695.652174\n",
      "Name: Magnetite [ppm], dtype: float64\n"
     ]
    }
   ],
   "source": [
    "# compile magnetite-sulfate compilation data\n",
    "mag_sulf = pd.DataFrame()\n",
    "log_bins = np.logspace(0, 4)\n",
    "cutoff = 3\n",
    "for key in inter:\n",
    "    if \"Sulfate [mM]\" in inter[key].columns:\n",
    "        mag_sulf = mag_sulf.append(inter[key][[\"Magnetite [ppm]\",\"Sulfate [mM]\"]], True)\n",
    "\n",
    "high_sulf = mag_sulf[mag_sulf[\"Sulfate [mM]\"] >= cutoff][\"Magnetite [ppm]\"].dropna()\n",
    "low_sulf = mag_sulf[mag_sulf[\"Sulfate [mM]\"] < cutoff][\"Magnetite [ppm]\"].dropna()\n",
    "\n",
    "print(\"High sulfate magnetite: \\n\", high_sulf.describe())\n",
    "print(\"Low sulfate magnetite: \\n\", low_sulf.describe())\n",
    "# cutoff of 5:\n",
    "# high sulfate: 25% 179, 50% 273, 75% 479\n",
    "# low sulfate: 25% 124, 50% 251, 75% 403\n"
   ],
   "metadata": {
    "collapsed": false
   }
  },
  {
   "cell_type": "code",
   "execution_count": null,
   "outputs": [],
   "source": [
    "# create a dictionary to match a unique color and unique marker to each sheet\n",
    "# 20 sheets at the moment (counting up to Towuti)\n",
    "colors = [\"r\", \"b\", \"g\", \"c\", \"m\", \"y\", \"k\", \"orange\", \"lime\", \"darkviolet\", \"grey\", \"gold\", \"darkcyan\", \"coral\", \"maroon\", \"yellowgreen\", \"springgreen\", \"orangered\", \"moccasin\", \"slateblue\"]\n",
    "markers = [\".\", \"v\", \"^\", \"<\", \">\", \"8\", \"s\", \"p\", \"*\", \"h\", \"H\", \"+\", \"1\", \"2\", \"3\", \"|\", \"_\", \"D\", \"d\", \"x\"]\n",
    "color_dict = dict(zip(list(comps.keys()), colors))\n",
    "marker_dict = dict(zip(list(comps.keys()), markers))"
   ],
   "metadata": {
    "collapsed": false
   }
  },
  {
   "cell_type": "code",
   "execution_count": null,
   "outputs": [],
   "source": [
    "depth_fig, depth_ax = plt.subplots()\n",
    "toc_fig, toc_ax = plt.subplots()\n",
    "sulf_fig, sulf_ax = plt.subplots()\n",
    "iron_fig, iron_ax = plt.subplots()\n",
    "\n",
    "# go through each sheet, plot all variables in the sheet\n",
    "for c_key in comps:\n",
    "    # depth can be mbsf or mcd or ambsf\n",
    "    if \"Depth [mbsf]\" in comps[c_key].columns:\n",
    "        depth_ax.plot(comps[c_key][\"Magnetite [ppm]\"], comps[c_key][\"Depth [mbsf]\"], color=color_dict[c_key], marker=marker_dict[c_key], markersize=2, label=c_key, linestyle=\"None\", mew=0.5)\n",
    "\n",
    "    if \"Depth [mcd]\" in comps[c_key].columns:\n",
    "        depth_ax.plot(comps[c_key][\"Magnetite [ppm]\"], comps[c_key][\"Depth [mcd]\"], color=color_dict[c_key], marker=marker_dict[c_key], markersize=2, label=c_key, linestyle=\"None\", mew=0.5)\n",
    "\n",
    "    if \"Depth [ambsf]\" in comps[c_key].columns:\n",
    "        depth_ax.plot(comps[c_key][\"Magnetite [ppm]\"], comps[c_key][\"Depth [ambsf]\"], color=color_dict[c_key], marker=marker_dict[c_key], markersize=2, label=c_key, linestyle=\"None\", mew=0.5)\n",
    "\n",
    "    if \"TOC [wt. %]\" in comps[c_key].columns:\n",
    "        toc_ax.plot(comps[c_key][\"Magnetite [ppm]\"], comps[c_key][\"TOC [wt. %]\"], color=color_dict[c_key], marker=marker_dict[c_key], markersize=2, label=c_key, linestyle=\"None\", mew=0.5)\n",
    "\n",
    "    if \"Sulfate [mM]\" in comps[c_key].columns:\n",
    "        # uncomment one of the lines below to plot either colorbar (lower) or normal (upper)\n",
    "        sulf_ax.plot(comps[c_key][\"Magnetite [ppm]\"], comps[c_key][\"Sulfate [mM]\"], color=color_dict[c_key], marker=marker_dict[c_key], markersize=2, label=c_key, linestyle=\"None\", mew=0.5)\n",
    "        #sulf_im = sulf_ax.scatter(comps[c_key][\"Magnetite [ppm]\"], comps[c_key][\"Sulfate [mM]\"], c=comps[c_key][\"TOC [wt. %]\"], vmin=0, vmax=2, marker=marker_dict[c_key], s=2, label=c_key, linestyle=\"None\", linewidths=0.5, edgecolors=\"none\", cmap=\"cividis\")\n",
    "\n",
    "    if \"Fe 2+ [uM]\" in comps[c_key].columns:\n",
    "        iron_ax.plot(comps[c_key][\"Magnetite [ppm]\"], comps[c_key][\"Fe 2+ [uM]\"], color=color_dict[c_key], marker=marker_dict[c_key], markersize=2, label=c_key, linestyle=\"None\", mew=0.5)\n"
   ],
   "metadata": {
    "collapsed": false
   }
  }
 ],
 "metadata": {
  "kernelspec": {
   "display_name": "Python 3",
   "language": "python",
   "name": "python3"
  },
  "language_info": {
   "codemirror_mode": {
    "name": "ipython",
    "version": 2
   },
   "file_extension": ".py",
   "mimetype": "text/x-python",
   "name": "python",
   "nbconvert_exporter": "python",
   "pygments_lexer": "ipython2",
   "version": "2.7.6"
  }
 },
 "nbformat": 4,
 "nbformat_minor": 0
}
