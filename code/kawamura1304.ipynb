{
 "cells": [
  {
   "cell_type": "markdown",
   "source": [
    "# Magnetic and Diagenetic Analyses of Kawamura (2009)\n",
    "_____\n",
    "\n",
    "Paper doi: 10.2204/iodp.proc.303306.209.2009\n",
    "\n",
    "Core: IODP Expedition 303 Site U1304 (53°3.4′N, 33°31.8′W)\n",
    "\n",
    "Water depth: 3065 m\n",
    "\n",
    "Data in analysis: Magnetite ppm (from Ms measurements), sedimentation rate, total organic carbon, pore water chemistry.\n",
    "\n",
    "Age model paper: https://doi.org/10.1016/j.quascirev.2016.04.010"
   ],
   "metadata": {
    "collapsed": false
   }
  },
  {
   "cell_type": "code",
   "execution_count": 1,
   "outputs": [],
   "source": [
    "# import packages\n",
    "import pandas as pd\n",
    "import matplotlib.pyplot as plt\n",
    "import numpy as np\n",
    "import data_fns\n",
    "%matplotlib inline\n",
    "plt.rcParams[\"font.family\"] = \"Avenir\""
   ],
   "metadata": {
    "collapsed": false
   }
  },
  {
   "cell_type": "code",
   "execution_count": 2,
   "outputs": [],
   "source": [
    "# read in data\n",
    "magn = pd.read_excel(\"data/kawamura2009/1304.xlsx\", sheet_name=\"1304 Ms\")\n",
    "geochem = pd.read_excel(\"data/kawamura2009/1304.xlsx\", sheet_name=\"geochem\")\n",
    "toc = pd.read_excel(\"data/kawamura2009/1304.xlsx\", sheet_name=\"toc\")\n",
    "ages = pd.read_excel(\"data/kawamura2009/1304.xlsx\", sheet_name=\"ages\")\n",
    "\n",
    "# unit adjustments\n",
    "# there is a scaling factor for each Ms measurement, plus the usual conversion to magnetite\n",
    "# also convert ages from ka to Ma\n",
    "magn[\"Magnetite [ppm]\"] = (magn[\"Ms (Am^2/kg)\"] * 10**6) / (92 * (10 ** magn[\"Negative Factor\"]))\n",
    "ages[\"Age [Ma]\"] = ages[\"Age (ka)\"] / 1000"
   ],
   "metadata": {
    "collapsed": false
   }
  },
  {
   "cell_type": "code",
   "execution_count": 3,
   "outputs": [],
   "source": [
    "# calculate sed rates\n",
    "sed_rates = data_fns.sed_rates(ages[\"Age [Ma]\"], ages[\"Depth (mcd)\"])"
   ],
   "metadata": {
    "collapsed": false
   }
  },
  {
   "cell_type": "code",
   "execution_count": 4,
   "outputs": [],
   "source": [
    "# combine stuff together\n",
    "magn_df = pd.DataFrame({\"Depth [mbsf]\":magn[\"Depth (mcd)\"], \"Magnetite [ppm]\":magn[\"Magnetite [ppm]\"]})\n",
    "geochem_df = pd.DataFrame({\"Depth [mbsf]\":geochem[\"Depth (mcd)\"], \"Sulfate [mM]\":geochem[\"Sulfate(SO4) (mM)\"], \"Fe 2+ [uM]\":geochem[\"Iron(Fe 2+) (uM)\"]})\n",
    "toc_df = pd.DataFrame({\"Depth [mbsf]\":toc[\"Depth (mcd)\"], \"TOC [wt. %]\":toc[\"ORG_C (wt %)\"]})\n",
    "seds_df = pd.DataFrame({\"Depth [mbsf]\":ages[\"Depth (mcd)\"], \"Sedimentation Rate [m/Myr]\":sed_rates})\n",
    "\n",
    "comb_df = pd.concat([magn_df, geochem_df, toc_df, seds_df]).sort_values(by=\"Depth [mbsf]\").reset_index(drop=True)\n",
    "\n",
    "# there are some rows with all nans, due to the input data\n",
    "# dropping those now for cleanliness and so that interpolation works\n",
    "comb_df.dropna(subset=[\"Depth [mbsf]\"], inplace=True)\n"
   ],
   "metadata": {
    "collapsed": false
   }
  },
  {
   "cell_type": "code",
   "execution_count": 5,
   "outputs": [],
   "source": [
    "# interpolate\n",
    "interpolated = data_fns.interpolate(comb_df, [\"Sulfate [mM]\", \"TOC [wt. %]\", \"Fe 2+ [uM]\"])"
   ],
   "metadata": {
    "collapsed": false
   }
  },
  {
   "cell_type": "code",
   "execution_count": 6,
   "outputs": [
    {
     "data": {
      "text/plain": "<Figure size 432x288 with 5 Axes>",
      "image/png": "[encoded data removed]"
     },
     "metadata": {
      "needs_background": "light"
     },
     "output_type": "display_data"
    }
   ],
   "source": [
    "# downcore plots\n",
    "colors = [\"r\", \"b\", \"r\", \"g\", \"k\"]\n",
    "markers = [\".\", \"+\", \"^\", \"x\", \"<\"]\n",
    "comp_markers = [\".\", \".\", \".\", \".\"]\n",
    "dc_fig, dc_axs = data_fns.plot_dc([\"Magnetite [ppm]\", \"Sulfate [mM]\", \"TOC [wt. %]\", \"Sedimentation Rate [m/Myr]\", \"Fe 2+ [uM]\"], comb_df, colors, markers)\n",
    "dc_fig.suptitle(\"Downcore Parameters of IODP 303-U1304\", x=0.5)\n",
    "dc_axs[0].set_ylabel(\"Depth [mcd]\")\n",
    "dc_axs[0].set_xlabel(\"Magnetite\\n[ppm]\")\n",
    "dc_axs[3].set_xlabel(\"Sedimentation\\nRate [m/Myr]\")\n",
    "dc_axs[0].set_xticks([0, 750, 1500])\n",
    "dc_axs[1].set_xticks([0, 10, 20])\n",
    "dc_axs[2].set_xticks([0, 0.5, 1])\n",
    "dc_axs[3].set_xticks([0, 250, 500])\n",
    "dc_axs[4].set_xticks([0, 15, 30])\n",
    "dc_fig.savefig(\"outputs/kawamura2009/1304/dc-aug23.pdf\", bbox_inches=\"tight\")"
   ],
   "metadata": {
    "collapsed": false
   }
  },
  {
   "cell_type": "code",
   "execution_count": null,
   "outputs": [],
   "source": [
    "# comparison plots\n",
    "comp_figs, comp_axs = data_fns.plot_comp([\"Sulfate [mM]\", \"TOC [wt. %]\", \"Fe 2+ [uM]\"], interpolated, [\"b\", \"r\", \"k\"], comp_markers, markersize=4)\n",
    "comp_axs[0].set(xlabel=\"Magnetite [ppm]\", ylabel=\"Sulfate [mM]\", title=\"Sulfate vs Magnetite\")\n",
    "comp_axs[1].set(xlabel=\"Magnetite [ppm]\", ylabel=\"TOC [wt. %]\", title=\"TOC vs Magnetite\", xlim=[0,2000])\n",
    "comp_axs[1].set_ylim(ymin=0)\n",
    "comp_axs[2].set(xlabel=\"Magnetite [ppm]\", ylabel=\"Fe 2+ [uM]\", title=\"Iron vs Magnetite\")\n",
    "comp_figs[0].savefig(\"outputs/kawamura2009/1304/sulf-comp.pdf\")\n",
    "comp_figs[1].savefig(\"outputs/kawamura2009/1304/toc-comp.pdf\")\n",
    "comp_figs[2].savefig(\"outputs/kawamura2009/1304/iron-comp.pdf\")"
   ],
   "metadata": {
    "collapsed": false
   }
  },
  {
   "cell_type": "code",
   "execution_count": 7,
   "outputs": [
    {
     "data": {
      "text/plain": "<Figure size 432x288 with 1 Axes>",
      "image/png": "[encoded data removed]"
     },
     "metadata": {
      "needs_background": "light"
     },
     "output_type": "display_data"
    }
   ],
   "source": [
    "# plot the sed rate comp plot separately, since it has a different presentation\n",
    "sed_fig, sed_ax, sed_sc = data_fns.sed_avg_plot(interpolated, 3)\n",
    "sed_ax.set(xlabel=\"Magnetite [ppm]\", ylabel=\"Sedimentation Rate [m/Myr]\", title = \"Sedimentation Rate vs Magnetite\", xlim=[0,2000], ylim=[0,600])\n",
    "sed_fig.savefig(\"outputs/kawamura2009/1304/sed-comp-aug23.pdf\")"
   ],
   "metadata": {
    "collapsed": false
   }
  },
  {
   "cell_type": "code",
   "execution_count": 14,
   "outputs": [],
   "source": [
    "# write data to compilations\n",
    "# first we have to rename the depth columns to mcd instead of mbsf\n",
    "# we used mbsf above b/c it works nicely with data_fns.py\n",
    "comb_df.rename(columns={\"Depth [mbsf]\":\"Depth [mcd]\"}, inplace=True)\n",
    "interpolated.rename(columns={\"Depth [mbsf]\":\"Depth [mcd]\"}, inplace=True)"
   ],
   "metadata": {
    "collapsed": false
   }
  },
  {
   "cell_type": "code",
   "execution_count": 15,
   "outputs": [],
   "source": [
    "data_fns.write_output(comb_df, \"IODP 303-U1304\", \"data/comp_raw.xlsx\")\n",
    "data_fns.write_output(interpolated, \"IODP 303-U1304\", \"data/comp_inter.xlsx\")\n"
   ],
   "metadata": {
    "collapsed": false
   }
  }
 ],
 "metadata": {
  "kernelspec": {
   "display_name": "Python 3",
   "language": "python",
   "name": "python3"
  },
  "language_info": {
   "codemirror_mode": {
    "name": "ipython",
    "version": 2
   },
   "file_extension": ".py",
   "mimetype": "text/x-python",
   "name": "python",
   "nbconvert_exporter": "python",
   "pygments_lexer": "ipython2",
   "version": "2.7.6"
  }
 },
 "nbformat": 4,
 "nbformat_minor": 0
}
