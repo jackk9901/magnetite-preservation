{
 "cells": [
  {
   "cell_type": "code",
   "execution_count": 32,
   "outputs": [],
   "source": [
    "# import statements\n",
    "import pandas as pd\n",
    "import matplotlib.pyplot as plt\n",
    "import numpy as np\n",
    "import cartopy.crs as ccrs\n",
    "from mpl_toolkits.axes_grid1.inset_locator import inset_axes  # for sed rate plot\n",
    "from scipy.stats import chisquare\n",
    "%matplotlib inline\n",
    "plt.rcParams[\"font.family\"] = \"Avenir\""
   ],
   "metadata": {
    "collapsed": false
   }
  },
  {
   "cell_type": "code",
   "execution_count": 4,
   "outputs": [],
   "source": [
    "# read in data (loads all sheets and creates a dictionary of dataframes)\n",
    "# looking at interpolated data here, but raw data is also available\n",
    "# and would be useful if you want to do a downcore compilation plot\n",
    "comps = pd.read_excel(\"data/comp_inter.xlsx\", sheet_name=None)"
   ],
   "metadata": {
    "collapsed": false
   }
  },
  {
   "cell_type": "code",
   "execution_count": 47,
   "outputs": [
    {
     "name": "stdout",
     "output_type": "stream",
     "text": [
      "[0.         0.         0.         0.         0.         0.\n",
      " 0.         0.         2.38408018 0.         1.19204009 0.\n",
      " 0.         1.19204009 3.57612027 0.         0.         2.38408018\n",
      " 0.         2.38408018 0.         1.19204009 0.         0.\n",
      " 0.         0.         0.         0.         0.         1.19204009\n",
      " 1.19204009 1.19204009 0.         0.         0.         0.\n",
      " 0.         0.         0.         1.19204009 0.         0.\n",
      " 0.         0.         0.         0.         0.         0.\n",
      " 1.19204009]\n",
      "[6.8318727  6.8318727  0.73129905 0.78903318 0.4811178  0.28867068\n",
      " 0.40413895 0.4811178  0.90450146 1.40486396 0.61583078 0.09622356\n",
      " 0.03848942 0.05773414 0.03848942 0.13471298 0.03848942 0.\n",
      " 0.         0.05773414 0.01924471 0.         0.01924471 0.\n",
      " 0.         0.         0.         0.         0.         0.\n",
      " 0.         0.         0.         0.         0.         0.\n",
      " 0.         0.         0.         0.         0.         0.\n",
      " 0.         0.         0.         0.         0.         0.\n",
      " 0.        ]\n"
     ]
    },
    {
     "name": "stderr",
     "output_type": "stream",
     "text": [
      "/Users/jackkreisler/opt/anaconda3/lib/python3.9/site-packages/scipy/stats/stats.py:6707: RuntimeWarning: divide by zero encountered in true_divide\n",
      "  terms = (f_obs_float - f_exp)**2 / f_exp\n",
      "/Users/jackkreisler/opt/anaconda3/lib/python3.9/site-packages/scipy/stats/stats.py:6707: RuntimeWarning: invalid value encountered in true_divide\n",
      "  terms = (f_obs_float - f_exp)**2 / f_exp\n"
     ]
    }
   ],
   "source": [
    "# extract magnetite abundances\n",
    "# ignore data outside min and max TOC at towuti\n",
    "# keep towuti and non-towuti data separate\n",
    "TOC_min = 0.5054\n",
    "TOC_max = 2.991\n",
    "towuti = []\n",
    "others = []\n",
    "for key in comps:\n",
    "    data = comps[key][[\"Magnetite [ppm]\", \"TOC [wt. %]\"]].dropna()\n",
    "    # take only data where TOC is between min and max\n",
    "    filtered = data[data[\"TOC [wt. %]\"].between(TOC_min,TOC_max)][\"Magnetite [ppm]\"]\n",
    "\n",
    "    if key==\"IDLE TOW10-9B\":\n",
    "        towuti.extend(filtered)\n",
    "    else:\n",
    "        others.extend(filtered)\n",
    "\n",
    "# define bin widths\n",
    "# not sure if it matters whether bins are lin or log spaced\n",
    "# obviously bins need to be the same for towuti and others, and should cover entire data range\n",
    "max_magnetite = 12090\n",
    "bins = np.linspace(0,max_magnetite)\n",
    "# create histogram of non-towuti data as pdf\n",
    "pdf = np.histogram(others, bins, density=True)\n",
    "# create histogram of towuti data on same bins\n",
    "towuti_freq = np.histogram(towuti,bins, density=True)\n",
    "# calculate chi-square using the histogram values (first returned array from np.histogram)\n",
    "chisq, p = chisquare(towuti_freq[0], pdf[0])\n",
    "print(towuti_freq[0]*5000)\n",
    "print(pdf[0]*5000)"
   ],
   "metadata": {
    "collapsed": false
   }
  },
  {
   "cell_type": "code",
   "execution_count": null,
   "outputs": [],
   "source": [
    "# create a dictionary to match a unique color and unique marker to each sheet\n",
    "# 20 sheets at the moment (most recently-added data is Towuti, last sheet in file is M0063 sarah data)\n",
    "# ['HLY05-01 JPC-TC5', 'IODP 178-1096', 'SPR0901-04BC', 'IODP 349-1431', 'IODP 334-1378', 'IODP 334-1379', 'ODP 180-1109', 'ODP 180-1115', 'ODP 180-1118', 'NBP1203 JKC36', 'IODP 303-U1302-3', 'IODP 303-U1304', 'IODP 303-U1308', 'IODP 342-U1406', 'ODP 175-1075', 'IODP 347-M0063', 'IDLE TOW10-9B', 'NBP10-01 JPC-126', 'NBP10-01 JKC-55, JPC-127', 'IODP 347-M0063_Slotznick']\n",
    "# sorted by size of dataset descending: ['IODP 178-1096', 'NBP10-01 JPC-126', 'NBP10-01 JKC-55, JPC-127', 'HLY05-01 JPC-TC5', 'NBP1203 JKC36', 'IODP 349-1431', 'ODP 180-1109', 'ODP 180-1118', 'ODP 180-1115', 'SPR0901-04BC', 'IODP 334-1378', 'IODP 347-M0063', 'IODP 334-1379', 'IODP 303-U1302-3', 'IODP 303-U1304', 'IODP 303-U1308', 'IODP 342-U1406', 'IDLE TOW10-9B', 'ODP 175-1075', 'IODP 347-M0063_Slotznick']\n",
    "\n",
    "sorted_keys = list(comps.keys())\n",
    "sorted_keys.sort()  # plotting in alphabetical order so it's not just random\n",
    "#print(sorted_keys)\n",
    "# sort instead by number of magnetite points\n",
    "size_sort = list(comps.keys())\n",
    "\n",
    "\n",
    "def sort_func(item):\n",
    "    return comps[item][\"Magnetite [ppm]\"].dropna().size\n",
    "\n",
    "\n",
    "size_sort.sort(reverse=True, key=sort_func)\n",
    "#print(size_sort)\n",
    "\n",
    "colors = [\"r\", \"b\", \"g\", \"c\", \"m\", \"y\", \"mediumorchid\", \"orange\", \"royalblue\", \"darkviolet\", \"grey\", \"chartreuse\",\n",
    "          \"darkcyan\", \"coral\", \"maroon\", \"yellowgreen\", \"springgreen\", \"orangered\", \"k\", \"slateblue\"]\n",
    "#markers = [\".\",\".\",\".\",\".\",\".\",\".\",\".\",\".\",\".\",\".\",\".\",\".\",\".\",\".\",\".\",\".\",\".\",\".\",\".\",\".\"]\n",
    "markers = [\".\", \"v\", \"^\", \"<\", \">\", \"8\", \"X\", \"p\", \"*\", \"h\", \"+\", \"H\", \"1\", \"2\", \"3\", \"4\", \"P\", \"D\", \"d\", \"x\"]\n",
    "color_dict = dict(zip(size_sort, colors))\n",
    "marker_dict = dict(zip(size_sort, markers))"
   ],
   "metadata": {
    "collapsed": false
   }
  }
 ],
 "metadata": {
  "kernelspec": {
   "display_name": "Python 3",
   "language": "python",
   "name": "python3"
  },
  "language_info": {
   "codemirror_mode": {
    "name": "ipython",
    "version": 2
   },
   "file_extension": ".py",
   "mimetype": "text/x-python",
   "name": "python",
   "nbconvert_exporter": "python",
   "pygments_lexer": "ipython2",
   "version": "2.7.6"
  }
 },
 "nbformat": 4,
 "nbformat_minor": 0
}
